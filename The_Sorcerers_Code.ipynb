{
 "cells": [
  {
   "cell_type": "markdown",
   "metadata": {},
   "source": [
    "# The Sorcerer's Code: A Hands-On Introduction to Python's Magic Methods"
   ]
  },
  {
   "cell_type": "markdown",
   "metadata": {},
   "source": [
    "## Introduction"
   ]
  },
  {
   "cell_type": "markdown",
   "metadata": {},
   "source": [
    "So there you are - mind racing, fingers blurring, the most beautiful Python in all the world coming to life on your screen. You're in the zone!\n",
    "\n",
    "Tasks fall to your indomitable will one right after another. Boom! Boom!\n",
    "\n",
    "Suddenly, a new task appears on the horizon: you need a class to represent a big ol' hunk of words!\n",
    "\n",
    "\"Ha,\" you scoff. \"Easy!\"\n",
    "\n",
    "It takes mere seconds for you to lay out the core of the class."
   ]
  },
  {
   "cell_type": "code",
   "execution_count": 72,
   "metadata": {},
   "outputs": [],
   "source": [
    "class WordHunk(object):\n",
    "    def __init__(self, word_string):\n",
    "        self.words = word_string.split()"
   ]
  },
  {
   "cell_type": "markdown",
   "metadata": {},
   "source": [
    "You give the class a try..."
   ]
  },
  {
   "cell_type": "code",
   "execution_count": 73,
   "metadata": {},
   "outputs": [],
   "source": [
    "hunk = WordHunk(\"These are some words\")\n",
    "assert hunk.words == [\"These\", \"are\", \"some\", \"words\"]"
   ]
  },
  {
   "cell_type": "markdown",
   "metadata": {},
   "source": [
    "...and it's flawless, of course. You're an absolute *wizard* on the keyboard today!\n",
    "\n",
    "Confidently, you print out your new class:"
   ]
  },
  {
   "cell_type": "code",
   "execution_count": 74,
   "metadata": {},
   "outputs": [
    {
     "name": "stdout",
     "output_type": "stream",
     "text": [
      "<__main__.WordHunk object at 0x7fba0418cf60>\n"
     ]
    }
   ],
   "source": [
    "hunk = WordHunk(\"These are some words\")\n",
    "print(hunk)"
   ]
  },
  {
   "cell_type": "markdown",
   "metadata": {},
   "source": [
    "Oh. Oh no.\n",
    "\n",
    "That's so... ugly!\n",
    "\n",
    "You desperately wrack your brain for a solution, but nothing comes to mind. Could you maybe change the print function? Could you do something weird with stdout? \n",
    "\n",
    "Ugh - those are terrible ideas.\n",
    "\n",
    "You sag in your chair, and your flow state comes to an abrupt end.\n",
    "\n",
    "Magician though you may have been, you're going to need some *real* magic to get out of this mess.\n",
    "\n",
    "Luckily, Python has you covered. \n",
    "\n",
    "Allow me to introduce you to... \n",
    "\n",
    "### *_Magic Methods!_*"
   ]
  },
  {
   "cell_type": "markdown",
   "metadata": {},
   "source": [
    "# The `__init__` Method"
   ]
  },
  {
   "cell_type": "markdown",
   "metadata": {},
   "source": [
    "You're probably pretty familiar with this little number already.\n",
    "\n",
    "By defining `__init__`, you can control how class instances are *initialized*. \n",
    "\n",
    "You used this method just above when you dictated that `WordHunk` initializes instances by: \n",
    "\n",
    "- Converting a user-provided string into a list of individual words\n",
    "- And assigning that new list of words to the instance variable `words`"
   ]
  },
  {
   "cell_type": "markdown",
   "metadata": {},
   "source": [
    "## The `__str__` Method"
   ]
  },
  {
   "cell_type": "markdown",
   "metadata": {},
   "source": [
    "`__str__` allows you to define a \"human-readable\" representation of your class. Whatever `__str__` returns is what `print` will return.\n",
    "\n",
    "Armed with this new knowledge, let's fix up `WordHunk`:"
   ]
  },
  {
   "cell_type": "code",
   "execution_count": 75,
   "metadata": {},
   "outputs": [],
   "source": [
    "class WordHunk(object):\n",
    "    def __init__(self, word_string):\n",
    "        self.words = word_string.split()\n",
    "    def __str__(self):\n",
    "        return str(self.words)"
   ]
  },
  {
   "cell_type": "code",
   "execution_count": 76,
   "metadata": {},
   "outputs": [
    {
     "name": "stdout",
     "output_type": "stream",
     "text": [
      "['These', 'are', 'some', 'words']\n"
     ]
    }
   ],
   "source": [
    "hunk = WordHunk(\"These are some words\")\n",
    "print(hunk)"
   ]
  },
  {
   "cell_type": "markdown",
   "metadata": {},
   "source": [
    "Now *that* is magical! \n",
    "\n",
    "Let's just make sure that WordHunks are *always* represented in such a pretty way..."
   ]
  },
  {
   "cell_type": "code",
   "execution_count": 77,
   "metadata": {},
   "outputs": [
    {
     "name": "stdout",
     "output_type": "stream",
     "text": [
      "[<__main__.WordHunk object at 0x7fba04122860>, <__main__.WordHunk object at 0x7fba04122860>]\n"
     ]
    }
   ],
   "source": [
    "double_hunk = [hunk, hunk]\n",
    "print(double_hunk)"
   ]
  },
  {
   "cell_type": "markdown",
   "metadata": {},
   "source": [
    "Oh no. Not again!"
   ]
  },
  {
   "cell_type": "markdown",
   "metadata": {},
   "source": [
    "## The `__repr__` Method"
   ]
  },
  {
   "cell_type": "markdown",
   "metadata": {},
   "source": [
    "Where `__str__` fails, `__repr__` excels. \n",
    "\n",
    "`__repr__` allows you to define a \"machine-readable\" representation of your class. Whatever `__repr__` returns is what will be rendered when you use your class in a data structure or use it in a shell.\n",
    "\n",
    "By convention, the return value of `__repr__` should be valid Python code. Ideally, you should be able to recreate an instance of a class *from* that instance's `__repr__`. \n",
    "\n",
    "Let's get to it!"
   ]
  },
  {
   "cell_type": "code",
   "execution_count": 78,
   "metadata": {},
   "outputs": [],
   "source": [
    "class WordHunk(object):\n",
    "    def __init__(self, word_string):\n",
    "        self.words = word_string.split()\n",
    "    def __str__(self):\n",
    "        return str(self.words)\n",
    "    def __repr__(self):\n",
    "        return \"WordHunk('{}')\".format(\" \".join(self.words))"
   ]
  },
  {
   "cell_type": "code",
   "execution_count": 79,
   "metadata": {},
   "outputs": [
    {
     "name": "stdout",
     "output_type": "stream",
     "text": [
      "[WordHunk('These are some words'), WordHunk('These are some words')]\n"
     ]
    }
   ],
   "source": [
    "hunk = WordHunk(\"These are some words\")\n",
    "double_hunk = [hunk, hunk]\n",
    "print(double_hunk)"
   ]
  },
  {
   "cell_type": "markdown",
   "metadata": {},
   "source": [
    "Perfect! And as a quick double-check, we can get the `__repr__` of our objects using Python's `repr` function."
   ]
  },
  {
   "cell_type": "code",
   "execution_count": 80,
   "metadata": {},
   "outputs": [
    {
     "data": {
      "text/plain": [
       "\"WordHunk('These are some words')\""
      ]
     },
     "execution_count": 80,
     "metadata": {},
     "output_type": "execute_result"
    }
   ],
   "source": [
    "repr(hunk)"
   ]
  },
  {
   "cell_type": "markdown",
   "metadata": {},
   "source": [
    "And if we evaluate our `__repr__` as if it were valid Python code (because it *is*), then we should get back a real Python object:"
   ]
  },
  {
   "cell_type": "code",
   "execution_count": 55,
   "metadata": {},
   "outputs": [
    {
     "data": {
      "text/plain": [
       "WordHunk('These are some words')"
      ]
     },
     "execution_count": 55,
     "metadata": {},
     "output_type": "execute_result"
    }
   ],
   "source": [
    "eval(repr(hunk))"
   ]
  },
  {
   "cell_type": "markdown",
   "metadata": {},
   "source": [
    "Ta da! A real `WordHunk`!"
   ]
  },
  {
   "cell_type": "markdown",
   "metadata": {},
   "source": [
    "## The `__len__` Method"
   ]
  },
  {
   "cell_type": "markdown",
   "metadata": {},
   "source": [
    "Wouldn't it be cool if we could take the length of a `WordHunk` using Python's built-in `len` function?"
   ]
  },
  {
   "cell_type": "code",
   "execution_count": 56,
   "metadata": {},
   "outputs": [
    {
     "ename": "TypeError",
     "evalue": "object of type 'WordHunk' has no len()",
     "output_type": "error",
     "traceback": [
      "\u001b[0;31m---------------------------------------------------------------------------\u001b[0m",
      "\u001b[0;31mTypeError\u001b[0m                                 Traceback (most recent call last)",
      "\u001b[0;32m<ipython-input-56-d796a42c142a>\u001b[0m in \u001b[0;36m<module>\u001b[0;34m()\u001b[0m\n\u001b[0;32m----> 1\u001b[0;31m \u001b[0mlen\u001b[0m\u001b[0;34m(\u001b[0m\u001b[0mhunk\u001b[0m\u001b[0;34m)\u001b[0m\u001b[0;34m\u001b[0m\u001b[0m\n\u001b[0m",
      "\u001b[0;31mTypeError\u001b[0m: object of type 'WordHunk' has no len()"
     ]
    }
   ],
   "source": [
    "len(hunk)"
   ]
  },
  {
   "cell_type": "markdown",
   "metadata": {},
   "source": [
    "Well I sure think it'd be cool! \n",
    "\n",
    "All we have to do is define the `__len__` method. Whatever `__len__` returns is how long our `WordHunk` will be."
   ]
  },
  {
   "cell_type": "code",
   "execution_count": 57,
   "metadata": {},
   "outputs": [],
   "source": [
    "class WordHunk(object):\n",
    "    def __init__(self, word_string):\n",
    "        self.words = word_string.split()\n",
    "        \n",
    "    def __str__(self):\n",
    "        return str(self.words)\n",
    "    def __repr__(self):\n",
    "        return \"WordHunk('{}')\".format(\" \".join(self.words))\n",
    "    \n",
    "    def __len__(self):\n",
    "        return len(self.words)"
   ]
  },
  {
   "cell_type": "code",
   "execution_count": 58,
   "metadata": {},
   "outputs": [
    {
     "data": {
      "text/plain": [
       "4"
      ]
     },
     "execution_count": 58,
     "metadata": {},
     "output_type": "execute_result"
    }
   ],
   "source": [
    "hunk = WordHunk(\"These are some words\")\n",
    "len(hunk)"
   ]
  },
  {
   "cell_type": "markdown",
   "metadata": {},
   "source": [
    "That was pretty easy. It makes sense that the length of a `WordHunk`is equal to how many words it contains."
   ]
  },
  {
   "cell_type": "markdown",
   "metadata": {},
   "source": [
    "## The `__contains__` Method"
   ]
  },
  {
   "cell_type": "markdown",
   "metadata": {},
   "source": [
    "I think it would also be pretty nifty if we could check if a word is in a `WordHunk`.\n",
    "\n",
    "Something like this:"
   ]
  },
  {
   "cell_type": "code",
   "execution_count": 59,
   "metadata": {},
   "outputs": [
    {
     "ename": "TypeError",
     "evalue": "argument of type 'WordHunk' is not iterable",
     "output_type": "error",
     "traceback": [
      "\u001b[0;31m---------------------------------------------------------------------------\u001b[0m",
      "\u001b[0;31mTypeError\u001b[0m                                 Traceback (most recent call last)",
      "\u001b[0;32m<ipython-input-59-954425367c9d>\u001b[0m in \u001b[0;36m<module>\u001b[0;34m()\u001b[0m\n\u001b[1;32m      1\u001b[0m \u001b[0mhunk\u001b[0m \u001b[0;34m=\u001b[0m \u001b[0mWordHunk\u001b[0m\u001b[0;34m(\u001b[0m\u001b[0;34m\"These are some words\"\u001b[0m\u001b[0;34m)\u001b[0m\u001b[0;34m\u001b[0m\u001b[0m\n\u001b[0;32m----> 2\u001b[0;31m \u001b[0;34m\"some\"\u001b[0m \u001b[0;32min\u001b[0m \u001b[0mhunk\u001b[0m\u001b[0;34m\u001b[0m\u001b[0m\n\u001b[0m",
      "\u001b[0;31mTypeError\u001b[0m: argument of type 'WordHunk' is not iterable"
     ]
    }
   ],
   "source": [
    "hunk = WordHunk(\"These are some words\")\n",
    "\"some\" in hunk"
   ]
  },
  {
   "cell_type": "markdown",
   "metadata": {},
   "source": [
    "To get this sort of behavior from our WordHunk, the simplest thing to do is define the `__contains__` method. \n",
    "\n",
    "`__contains__` should take an additional argument (the item in question) and then return a boolean depending on whether or not that item is in our `WordHunk`."
   ]
  },
  {
   "cell_type": "code",
   "execution_count": 60,
   "metadata": {},
   "outputs": [],
   "source": [
    "class WordHunk(object):\n",
    "    def __init__(self, word_string):\n",
    "        self.words = word_string.split()\n",
    "\n",
    "    def __str__(self):\n",
    "        return str(self.words)\n",
    "    def __repr__(self):\n",
    "        return \"WordHunk('{}')\".format(\" \".join(self.words))\n",
    "    \n",
    "    def __len__(self):\n",
    "        return len(self.words)\n",
    "    def __contains__(self, item):\n",
    "        return item in self.words"
   ]
  },
  {
   "cell_type": "code",
   "execution_count": 61,
   "metadata": {},
   "outputs": [
    {
     "data": {
      "text/plain": [
       "True"
      ]
     },
     "execution_count": 61,
     "metadata": {},
     "output_type": "execute_result"
    }
   ],
   "source": [
    "hunk = WordHunk(\"These are some words\")\n",
    "\"some\" in hunk"
   ]
  },
  {
   "cell_type": "markdown",
   "metadata": {},
   "source": [
    "## The `__getitem__` Method"
   ]
  },
  {
   "cell_type": "markdown",
   "metadata": {},
   "source": [
    "Here's the next awesome feature I think we should add to `WordHunk`:"
   ]
  },
  {
   "cell_type": "code",
   "execution_count": 83,
   "metadata": {},
   "outputs": [
    {
     "ename": "TypeError",
     "evalue": "'WordHunk' object does not support indexing",
     "output_type": "error",
     "traceback": [
      "\u001b[0;31m---------------------------------------------------------------------------\u001b[0m",
      "\u001b[0;31mTypeError\u001b[0m                                 Traceback (most recent call last)",
      "\u001b[0;32m<ipython-input-83-2a1dee428c19>\u001b[0m in \u001b[0;36m<module>\u001b[0;34m()\u001b[0m\n\u001b[1;32m      1\u001b[0m \u001b[0mhunk\u001b[0m \u001b[0;34m=\u001b[0m \u001b[0mWordHunk\u001b[0m\u001b[0;34m(\u001b[0m\u001b[0;34m\"These are some words\"\u001b[0m\u001b[0;34m)\u001b[0m\u001b[0;34m\u001b[0m\u001b[0m\n\u001b[0;32m----> 2\u001b[0;31m \u001b[0mhunk\u001b[0m\u001b[0;34m[\u001b[0m\u001b[0;36m0\u001b[0m\u001b[0;34m]\u001b[0m \u001b[0;31m# Should return: \"These\"\u001b[0m\u001b[0;34m\u001b[0m\u001b[0m\n\u001b[0m",
      "\u001b[0;31mTypeError\u001b[0m: 'WordHunk' object does not support indexing"
     ]
    }
   ],
   "source": [
    "hunk = WordHunk(\"These are some words\")\n",
    "hunk[0] # Should return: \"These\""
   ]
  },
  {
   "cell_type": "markdown",
   "metadata": {},
   "source": [
    "To get `WordHunk` to support indexing, we need to define `__getitem__`. \n",
    "\n",
    "`__getitem__` should take an additional argument (a index of some sort) and returns the word located at that index."
   ]
  },
  {
   "cell_type": "code",
   "execution_count": 84,
   "metadata": {},
   "outputs": [],
   "source": [
    "class WordHunk(object):\n",
    "    def __init__(self, word_string):\n",
    "        self.words = word_string.split()\n",
    "\n",
    "    def __str__(self):\n",
    "        return str(self.words)\n",
    "    def __repr__(self):\n",
    "        return \"WordHunk('{}')\".format(\" \".join(self.words))\n",
    "    \n",
    "    def __len__(self):\n",
    "        return len(self.words)\n",
    "    def __contains__(self, item):\n",
    "        return item in self.words\n",
    "    \n",
    "    def __getitem__(self, key):\n",
    "        return self.words[key]"
   ]
  },
  {
   "cell_type": "code",
   "execution_count": 86,
   "metadata": {},
   "outputs": [
    {
     "data": {
      "text/plain": [
       "'These'"
      ]
     },
     "execution_count": 86,
     "metadata": {},
     "output_type": "execute_result"
    }
   ],
   "source": [
    "hunk = WordHunk(\"These are some words\")\n",
    "hunk[0]"
   ]
  },
  {
   "cell_type": "markdown",
   "metadata": {},
   "source": [
    "## The `__setitem__` Method"
   ]
  },
  {
   "cell_type": "markdown",
   "metadata": {},
   "source": [
    "Now that we can get an item using bracket-notation, it would be nice if we could *set* an item using bracket notation.\n",
    "\n",
    "Something like this:"
   ]
  },
  {
   "cell_type": "code",
   "execution_count": 87,
   "metadata": {},
   "outputs": [
    {
     "ename": "TypeError",
     "evalue": "'WordHunk' object does not support item assignment",
     "output_type": "error",
     "traceback": [
      "\u001b[0;31m---------------------------------------------------------------------------\u001b[0m",
      "\u001b[0;31mTypeError\u001b[0m                                 Traceback (most recent call last)",
      "\u001b[0;32m<ipython-input-87-0fdc933bef70>\u001b[0m in \u001b[0;36m<module>\u001b[0;34m()\u001b[0m\n\u001b[1;32m      1\u001b[0m \u001b[0mhunk\u001b[0m \u001b[0;34m=\u001b[0m \u001b[0mWordHunk\u001b[0m\u001b[0;34m(\u001b[0m\u001b[0;34m\"These are some words\"\u001b[0m\u001b[0;34m)\u001b[0m\u001b[0;34m\u001b[0m\u001b[0m\n\u001b[0;32m----> 2\u001b[0;31m \u001b[0mhunk\u001b[0m\u001b[0;34m[\u001b[0m\u001b[0;36m2\u001b[0m\u001b[0;34m]\u001b[0m \u001b[0;34m=\u001b[0m \u001b[0;34m\"different\"\u001b[0m\u001b[0;34m\u001b[0m\u001b[0m\n\u001b[0m\u001b[1;32m      3\u001b[0m \u001b[0mhunk\u001b[0m\u001b[0;34m\u001b[0m\u001b[0m\n",
      "\u001b[0;31mTypeError\u001b[0m: 'WordHunk' object does not support item assignment"
     ]
    }
   ],
   "source": [
    "hunk = WordHunk(\"These are some words\")\n",
    "hunk[2] = \"different\"\n",
    "hunk"
   ]
  },
  {
   "cell_type": "markdown",
   "metadata": {},
   "source": [
    "I bet you can guess what `__setitem__` does.\n",
    "\n",
    "It takes *two* arguments:\n",
    "\n",
    "- a key to use as an index\n",
    "- and a new value to write at that index\n",
    "\n",
    "Note: there's really no need for `__setitem__` to return anything."
   ]
  },
  {
   "cell_type": "code",
   "execution_count": 89,
   "metadata": {},
   "outputs": [],
   "source": [
    "class WordHunk(object):\n",
    "    def __init__(self, word_string):\n",
    "        self.words = word_string.split()\n",
    "\n",
    "    def __str__(self):\n",
    "        return str(self.words)\n",
    "    def __repr__(self):\n",
    "        return \"WordHunk('{}')\".format(\" \".join(self.words))\n",
    "    \n",
    "    def __len__(self):\n",
    "        return len(self.words)\n",
    "    def __contains__(self, item):\n",
    "        return item in self.words\n",
    "    \n",
    "    def __getitem__(self, key):\n",
    "        return self.words[key]\n",
    "    def __setitem__(self, key, new_value):\n",
    "        self.words[key] = new_value"
   ]
  },
  {
   "cell_type": "code",
   "execution_count": 90,
   "metadata": {},
   "outputs": [
    {
     "data": {
      "text/plain": [
       "WordHunk('These are different words')"
      ]
     },
     "execution_count": 90,
     "metadata": {},
     "output_type": "execute_result"
    }
   ],
   "source": [
    "hunk = WordHunk(\"These are some words\")\n",
    "hunk[2] = \"different\"\n",
    "hunk"
   ]
  },
  {
   "cell_type": "markdown",
   "metadata": {},
   "source": [
    "## The `__iter__` Method"
   ]
  },
  {
   "cell_type": "markdown",
   "metadata": {},
   "source": [
    "Ideally, we'd also like the ability to iterate through our `WordHunk` one word at a time.\n",
    "\n",
    "Something like this:"
   ]
  },
  {
   "cell_type": "code",
   "execution_count": 96,
   "metadata": {},
   "outputs": [
    {
     "name": "stdout",
     "output_type": "stream",
     "text": [
      "These\n",
      "are\n",
      "some\n",
      "words\n"
     ]
    }
   ],
   "source": [
    "hunk = WordHunk(\"These are some words\")\n",
    "\n",
    "for word in hunk:\n",
    "    print(word)"
   ]
  },
  {
   "cell_type": "markdown",
   "metadata": {},
   "source": [
    "Given how this guide has gone so far, you wouldn't have expected that to work. Turns out, if you define `__getitem__`, Python will give you iteration for free. Tricky, tricky!\n",
    "\n",
    "But what if you *don't* want to define `__getitem__`, but you still want iteration? Have no fear!\n",
    "\n",
    "Here are the nuts and bolts of how Python implements iteration.\n"
    "\n",
    "We need to define *two* methods on `WordHunk`: `__iter__` and `__next__`.\n",
    "\n",
    "Here are the rules for `__iter__` and `__next__`.\n",
    "\n",
    "- `__iter__` needs to return an object that has a `__next__` method.\n",
    "\n",
    "- `__next__` is a method that returns the next item until there are no more items left. At that point it throws a special exception: the `StopIteration` exception.\n",
    "\n",
    "Let's start simple by defining `__next__` on our `WordHunk`. "
   ]
  },
  {
   "cell_type": "code",
   "execution_count": 97,
   "metadata": {},
   "outputs": [],
   "source": [
    "class WordHunk(object):\n",
    "    def __init__(self, word_string):\n",
    "        self.words = word_string.split()\n",
    "        self.current_index = 0\n",
    "\n",
    "    def __str__(self):\n",
    "        return str(self.words)\n",
    "    def __repr__(self):\n",
    "        return \"WordHunk('{}')\".format(\" \".join(self.words))\n",
    "    \n",
    "    def __len__(self):\n",
    "        return len(self.words)\n",
    "    def __contains__(self, item):\n",
    "        return item in self.words\n",
    "    \n",
    "    def __getitem__(self, key):\n",
    "        return self.words[key]\n",
    "    def __setitem__(self, key, new_value):\n",
    "        self.words[key] = new_value\n",
    "    \n",
    "    def __next__(self):\n",
    "        if self.current_index < len(self.words):\n",
    "            next_word = self.words[self.current_index]\n",
    "            self.current_index += 1\n",
    "            return next_word\n",
    "        else:\n",
    "            raise StopIteration"
   ]
  },
  {
   "cell_type": "markdown",
   "metadata": {},
   "source": [
    "There isn't anything tricky going on here. \n",
    "\n",
    "We now have a `current_index` variable to keep track of where we are in our word list.\n",
    "\n",
    "When we call `__next__`, we check if `current_index` is a valid index in our word list.\n",
    "\n",
    "- If `current_index` is valid, we return the word at `current_index` in our list and increment `current_index` by 1. \n",
    "\n",
    "- If `current_index` is invalid, we raise a special exception, `StopIteration`."
   ]
  },
  {
   "cell_type": "markdown",
   "metadata": {},
   "source": [
    "So now `WordHunk` has a next method. ...What should we do now?\n",
    "\n",
    "Let's think back to the requirements for making `WordHunk` iterable.\n",
    "\n",
    "- `WordHunk` must have an `__iter__` method that returns something with a `__next__` method.\n",
    "- `WordHunk`'s `__next__` method must return the next word until it runs out of words, then it throws.\n",
    "\n",
    "Hang on... If `WordHunk`'s `__iter__` method needs to return an object with a `__next__` method, and `WordHunk` *is* an object with a `__next__` method... then that means `WordHunk` can just return... itself?\n",
    "\n",
    "Bam! That's it! You've got it!"
   ]
  },
  {
   "cell_type": "code",
   "execution_count": 98,
   "metadata": {},
   "outputs": [],
   "source": [
    "class WordHunk(object):\n",
    "    def __init__(self, word_string):\n",
    "        self.words = word_string.split()\n",
    "        self.current_index = 0\n",
    "\n",
    "    def __str__(self):\n",
    "        return str(self.words)\n",
    "    def __repr__(self):\n",
    "        return \"WordHunk('{}')\".format(\" \".join(self.words))\n",
    "    \n",
    "    def __len__(self):\n",
    "        return len(self.words)\n",
    "    def __contains__(self, item):\n",
    "        return item in self.words\n",
    "    \n",
    "    def __getitem__(self, key):\n",
    "        return self.words[key]\n",
    "    def __setitem__(self, key, new_value):\n",
    "        self.words[key] = new_value\n",
    "    \n",
    "    def __next__(self):\n",
    "        if self.current_index < len(self.words):\n",
    "            next_word = self.words[self.current_index]\n",
    "            self.current_index += 1\n",
    "            return next_word\n",
    "        else:\n",
    "            raise StopIteration\n",
    "    def __iter__(self):\n",
    "        self.current_index = 0\n",
    "        return self"
   ]
  },
  {
   "cell_type": "code",
   "execution_count": 99,
   "metadata": {},
   "outputs": [
    {
     "name": "stdout",
     "output_type": "stream",
     "text": [
      "These\n",
      "are\n",
      "some\n",
      "words\n"
     ]
    }
   ],
   "source": [
    "hunk = WordHunk(\"These are some words\")\n",
    "for word in hunk:\n",
    "    print(word)"
   ]
  },
  {
   "cell_type": "markdown",
   "metadata": {},
   "source": [
    "But wait, there's more!\n",
    "\n",
    "Defining *both* `__iter__` and `__next__` is a little tiresome, so Python provides some syntactic sugar to help you along.\n",
    "\n",
    "You can use the magic of [generators!](https://docs.python.org/3/tutorial/classes.html#generators)\n",
    "\n",
    "Esssentially, generators let you write a *single* method that implements the behavior of *both* `__iter__` and `__next__`. \n",
    "\n",
    "The syntax is pretty simple. You just write a normal method that will return values one at a time (like `__next__` did), but instead of using a `return` statement, you use `yield` instead. You can call this new method `__iter__` and completely forget about `__next__`.\n",
    "\n",
    "`yield` is pretty magical. It remembers exactly where it stopped returning values and always picks back up where it left off. It also takes care of throwing a `StopIteration` error for you.\n",
    "\n",
    "This is a *lot* of information I'm throwing at you, so it might not make perfect sense yet.\n",
    "\n",
    "Fear not! Things will make more sense once you see the code:"
   ]
  },
  {
   "cell_type": "code",
   "execution_count": 103,
   "metadata": {},
   "outputs": [],
   "source": [
    "class WordHunk(object):\n",
    "    def __init__(self, word_string):\n",
    "        self.words = word_string.split()\n",
    "\n",
    "    def __str__(self):\n",
    "        return str(self.words)\n",
    "    def __repr__(self):\n",
    "        return \"WordHunk('{}')\".format(\" \".join(self.words))\n",
    "    \n",
    "    def __len__(self):\n",
    "        return len(self.words)\n",
    "    def __contains__(self, item):\n",
    "        return item in self.words\n",
    "    \n",
    "    def __getitem__(self, key):\n",
    "        return self.words[key]\n",
    "    def __setitem__(self, key, new_value):\n",
    "        self.words[key] = new_value\n",
    "    \n",
    "    def __iter__(self):\n",
    "        for word in self.words:\n",
    "            yield word"
   ]
  },
  {
   "cell_type": "code",
   "execution_count": 104,
   "metadata": {},
   "outputs": [
    {
     "name": "stdout",
     "output_type": "stream",
     "text": [
      "These\n",
      "are\n",
      "some\n",
      "words\n"
     ]
    }
   ],
   "source": [
    "hunk = WordHunk(\"These are some words\")\n",
    "for word in hunk:\n",
    "    print(word)"
   ]
  },
  {
   "cell_type": "markdown",
   "metadata": {},
   "source": [
    "Now that is a *lot* simpler!"
   ]
  },
  {
   "cell_type": "markdown",
   "metadata": {},
   "source": [
    "## Doing \"Math\" with WordHunks"
   ]
  },
  {
   "cell_type": "markdown",
   "metadata": {},
   "source": [
    "What do you think would happen if we *added* two `WordHunk`s together using the `+` operator?\n",
    "\n",
    "I think that addition of two `WordHunks` should return a *new* `WordHunk` with the word lists concatenated together.\n",
    "\n",
    "Something like this:"
   ]
  },
  {
   "cell_type": "code",
   "execution_count": 106,
   "metadata": {},
   "outputs": [
    {
     "ename": "TypeError",
     "evalue": "unsupported operand type(s) for +: 'WordHunk' and 'WordHunk'",
     "output_type": "error",
     "traceback": [
      "\u001b[0;31m---------------------------------------------------------------------------\u001b[0m",
      "\u001b[0;31mTypeError\u001b[0m                                 Traceback (most recent call last)",
      "\u001b[0;32m<ipython-input-106-e857aae79163>\u001b[0m in \u001b[0;36m<module>\u001b[0;34m()\u001b[0m\n\u001b[1;32m      1\u001b[0m \u001b[0mhunk\u001b[0m \u001b[0;34m=\u001b[0m \u001b[0mWordHunk\u001b[0m\u001b[0;34m(\u001b[0m\u001b[0;34m\"These are some words\"\u001b[0m\u001b[0;34m)\u001b[0m\u001b[0;34m\u001b[0m\u001b[0m\n\u001b[1;32m      2\u001b[0m \u001b[0manother_hunk\u001b[0m \u001b[0;34m=\u001b[0m \u001b[0mWordHunk\u001b[0m\u001b[0;34m(\u001b[0m\u001b[0;34m\"and they are great\"\u001b[0m\u001b[0;34m)\u001b[0m\u001b[0;34m\u001b[0m\u001b[0m\n\u001b[0;32m----> 3\u001b[0;31m \u001b[0mcombined_hunk\u001b[0m \u001b[0;34m=\u001b[0m \u001b[0mhunk\u001b[0m \u001b[0;34m+\u001b[0m \u001b[0manother_hunk\u001b[0m\u001b[0;34m\u001b[0m\u001b[0m\n\u001b[0m\u001b[1;32m      4\u001b[0m \u001b[0mcombined_hunk\u001b[0m\u001b[0;34m\u001b[0m\u001b[0m\n",
      "\u001b[0;31mTypeError\u001b[0m: unsupported operand type(s) for +: 'WordHunk' and 'WordHunk'"
     ]
    }
   ],
   "source": [
    "hunk = WordHunk(\"These are some words\")\n",
    "another_hunk = WordHunk(\"and they are great\")\n",
    "combined_hunk = hunk + another_hunk\n",
    "combined_hunk"
   ]
  },
  {
   "cell_type": "markdown",
   "metadata": {},
   "source": [
    "Let's make it happen! \n",
    "\n",
    "To get addition to work, we need to define the `__add__` method. It takes an argument (the thing that we want to add to our `WordHunk`) and returns a new `WordHunk` just like we talked about earlier."
   ]
  },
  {
   "cell_type": "code",
   "execution_count": 110,
   "metadata": {},
   "outputs": [],
   "source": [
    "class WordHunk(object):\n",
    "    def __init__(self, word_string):\n",
    "        self.words = word_string.split()\n",
    "\n",
    "    def __str__(self):\n",
    "        return str(self.words)\n",
    "    def __repr__(self):\n",
    "        return \"WordHunk('{}')\".format(\" \".join(self.words))\n",
    "    \n",
    "    def __len__(self):\n",
    "        return len(self.words)\n",
    "    def __contains__(self, item):\n",
    "        return item in self.words\n",
    "    \n",
    "    def __getitem__(self, key):\n",
    "        return self.words[key]\n",
    "    def __setitem__(self, key, new_value):\n",
    "        self.words[key] = new_value\n",
    "    \n",
    "    def __iter__(self):\n",
    "        for word in self.words:\n",
    "            yield word\n",
    "            \n",
    "    def __add__(self, other_WordHunk):\n",
    "        all_the_words_list = self.words + other_WordHunk.words\n",
    "        all_the_words_string = \" \".join(all_the_words_list)\n",
    "        return WordHunk(all_the_words_string)"
   ]
  },
  {
   "cell_type": "code",
   "execution_count": 111,
   "metadata": {},
   "outputs": [
    {
     "data": {
      "text/plain": [
       "WordHunk('These are some words and they are great')"
      ]
     },
     "execution_count": 111,
     "metadata": {},
     "output_type": "execute_result"
    }
   ],
   "source": [
    "hunk = WordHunk(\"These are some words\")\n",
    "another_hunk = WordHunk(\"and they are great\")\n",
    "combined_hunk = hunk + another_hunk\n",
    "combined_hunk"
   ]
  },
  {
   "cell_type": "markdown",
   "metadata": {},
   "source": [
    "Fantastic! \n",
    "\n",
    "Note: Since `WordHunk`s are created from strings, we had to convert the new word list into a string."
   ]
  },
  {
   "cell_type": "markdown",
   "metadata": {},
   "source": [
    "## Conclusion"
   ]
  },
  {
   "cell_type": "markdown",
   "metadata": {},
   "source": [
    "And there you go! \n",
    "\n",
    "Thanks to Python's magic methods, our`WordHunk`s are now *really* featureful.\n",
    "\n",
    "This list of magic methods is *far* from complete, but it should serve as a good introduction to the kinds of voodoo you have at your disposal. \n",
    "\n",
    "If you're hungry for more, I think that [this guide](http://www.diveintopython3.net/special-method-names.html) is a great place to go next. It *also* isn't complete, but it'll give you enough magic methods to solve 98% of your problems.\n",
    "\n",
    "That last 2% is *really* esoteric (for example, you can manipulate how Python *stores* your class's attributes in memory). So I wouldn't worry to much about it. When you need one of those crazy methods, you'll know it."
   ]
  }
 ],
 "metadata": {
  "kernelspec": {
   "display_name": "Python 3",
   "language": "python",
   "name": "python3"
  },
  "language_info": {
   "codemirror_mode": {
    "name": "ipython",
    "version": 3
   },
   "file_extension": ".py",
   "mimetype": "text/x-python",
   "name": "python",
   "nbconvert_exporter": "python",
   "pygments_lexer": "ipython3",
   "version": "3.6.5"
  }
 },
 "nbformat": 4,
 "nbformat_minor": 2
}
